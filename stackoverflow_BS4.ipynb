{
 "cells": [
  {
   "cell_type": "markdown",
   "id": "4eb783dd",
   "metadata": {},
   "source": [
    "# Scrap data from StackoverFlow"
   ]
  },
  {
   "cell_type": "markdown",
   "id": "208ec155",
   "metadata": {},
   "source": [
    "## Import the libraries "
   ]
  },
  {
   "cell_type": "code",
   "execution_count": null,
   "id": "261a22a6",
   "metadata": {},
   "outputs": [],
   "source": [
    "import requests\n",
    "from bs4 import BeautifulSoup\n",
    "import pandas as pd"
   ]
  },
  {
   "cell_type": "markdown",
   "id": "59abaa41",
   "metadata": {},
   "source": [
    "## Get the data we need from the tag and the page we need"
   ]
  },
  {
   "cell_type": "code",
   "execution_count": 4,
   "id": "d9b1f5da",
   "metadata": {},
   "outputs": [],
   "source": [
    "headers = {'User-Agent':'Mozilla/5.0 (Windows NT 10.0; Win64; x64) AppleWebKit/537.36 (KHTML, like Gecko) Chrome/104.0.0.0 Safari/537.36'}\n",
    "questionlist = []\n",
    "\n",
    "def getdata(tag,page):\n",
    "    url = 'https://stackoverflow.com/questions/tagged/{tag}?tab=newest&page={page}&pagesize=50'\n",
    "    r = requests.get(url,headers=headers)\n",
    "    soup = BeautifulSoup(r.text,'html.parser')\n",
    "    questions = soup.find_all('div', class_='s-post-summary js-post-summary')\n",
    "    for item in questions:\n",
    "         question = {\n",
    "                     'title': item.find('a',class_='s-link').text,\n",
    "                     'link' : 'https://stackoverflow.com' + item.find('a',class_='s-link')['href'],\n",
    "                     'date' : item.find('span',class_= 'relativetime')['title'],\n",
    "                     'vote' : item.find('span',class_='s-post-summary--stats-item-number').text\n",
    "                   }\n",
    "    \n",
    "         questionlist.append(question)\n",
    "    return\n"
   ]
  },
  {
   "cell_type": "markdown",
   "id": "0ca34f0b",
   "metadata": {},
   "source": [
    "# Get the data from the first 3 pages for python & SQL tags and put it into excel file & DF"
   ]
  },
  {
   "cell_type": "code",
   "execution_count": 6,
   "id": "86106109",
   "metadata": {},
   "outputs": [
    {
     "data": {
      "text/html": [
       "<div>\n",
       "<style scoped>\n",
       "    .dataframe tbody tr th:only-of-type {\n",
       "        vertical-align: middle;\n",
       "    }\n",
       "\n",
       "    .dataframe tbody tr th {\n",
       "        vertical-align: top;\n",
       "    }\n",
       "\n",
       "    .dataframe thead th {\n",
       "        text-align: right;\n",
       "    }\n",
       "</style>\n",
       "<table border=\"1\" class=\"dataframe\">\n",
       "  <thead>\n",
       "    <tr style=\"text-align: right;\">\n",
       "      <th></th>\n",
       "      <th>title</th>\n",
       "      <th>link</th>\n",
       "      <th>date</th>\n",
       "      <th>vote</th>\n",
       "    </tr>\n",
       "  </thead>\n",
       "  <tbody>\n",
       "    <tr>\n",
       "      <th>0</th>\n",
       "      <td>flask wtforms , multiple tags in input Filed f...</td>\n",
       "      <td>https://stackoverflow.com/questions/73844906/f...</td>\n",
       "      <td>2022-09-25 13:33:53Z</td>\n",
       "      <td>0</td>\n",
       "    </tr>\n",
       "    <tr>\n",
       "      <th>1</th>\n",
       "      <td>Dispaly Only 1 Post Per Category in Tags Archi...</td>\n",
       "      <td>https://stackoverflow.com/questions/73843667/d...</td>\n",
       "      <td>2022-09-25 10:11:54Z</td>\n",
       "      <td>-1</td>\n",
       "    </tr>\n",
       "    <tr>\n",
       "      <th>2</th>\n",
       "      <td>How to insert XML tags into a microsoft word 2...</td>\n",
       "      <td>https://stackoverflow.com/questions/73840152/h...</td>\n",
       "      <td>2022-09-24 19:46:21Z</td>\n",
       "      <td>0</td>\n",
       "    </tr>\n",
       "    <tr>\n",
       "      <th>3</th>\n",
       "      <td>Error when adding tags to Snowflake resource (...</td>\n",
       "      <td>https://stackoverflow.com/questions/73839513/e...</td>\n",
       "      <td>2022-09-24 18:07:20Z</td>\n",
       "      <td>0</td>\n",
       "    </tr>\n",
       "    <tr>\n",
       "      <th>4</th>\n",
       "      <td>HTML elements with a state</td>\n",
       "      <td>https://stackoverflow.com/questions/73836682/h...</td>\n",
       "      <td>2022-09-24 10:58:54Z</td>\n",
       "      <td>0</td>\n",
       "    </tr>\n",
       "    <tr>\n",
       "      <th>...</th>\n",
       "      <td>...</td>\n",
       "      <td>...</td>\n",
       "      <td>...</td>\n",
       "      <td>...</td>\n",
       "    </tr>\n",
       "    <tr>\n",
       "      <th>115</th>\n",
       "      <td>How can i route to an external link without ap...</td>\n",
       "      <td>https://stackoverflow.com/questions/73829505/h...</td>\n",
       "      <td>2022-09-23 14:46:44Z</td>\n",
       "      <td>0</td>\n",
       "    </tr>\n",
       "    <tr>\n",
       "      <th>116</th>\n",
       "      <td>how to convert a jupyter notebook containing h...</td>\n",
       "      <td>https://stackoverflow.com/questions/73828624/h...</td>\n",
       "      <td>2022-09-23 13:39:34Z</td>\n",
       "      <td>0</td>\n",
       "    </tr>\n",
       "    <tr>\n",
       "      <th>117</th>\n",
       "      <td>Converting .py file to .ui file using pyuic5 [...</td>\n",
       "      <td>https://stackoverflow.com/questions/73820844/c...</td>\n",
       "      <td>2022-09-22 21:26:29Z</td>\n",
       "      <td>0</td>\n",
       "    </tr>\n",
       "    <tr>\n",
       "      <th>118</th>\n",
       "      <td>How to remove Skip testcases from cypress runner</td>\n",
       "      <td>https://stackoverflow.com/questions/73811485/h...</td>\n",
       "      <td>2022-09-22 08:24:50Z</td>\n",
       "      <td>0</td>\n",
       "    </tr>\n",
       "    <tr>\n",
       "      <th>119</th>\n",
       "      <td>In php, how to get all link tags from header? ...</td>\n",
       "      <td>https://stackoverflow.com/questions/73809924/i...</td>\n",
       "      <td>2022-09-22 05:56:55Z</td>\n",
       "      <td>-2</td>\n",
       "    </tr>\n",
       "  </tbody>\n",
       "</table>\n",
       "<p>120 rows × 4 columns</p>\n",
       "</div>"
      ],
      "text/plain": [
       "                                                 title  \\\n",
       "0    flask wtforms , multiple tags in input Filed f...   \n",
       "1    Dispaly Only 1 Post Per Category in Tags Archi...   \n",
       "2    How to insert XML tags into a microsoft word 2...   \n",
       "3    Error when adding tags to Snowflake resource (...   \n",
       "4                           HTML elements with a state   \n",
       "..                                                 ...   \n",
       "115  How can i route to an external link without ap...   \n",
       "116  how to convert a jupyter notebook containing h...   \n",
       "117  Converting .py file to .ui file using pyuic5 [...   \n",
       "118   How to remove Skip testcases from cypress runner   \n",
       "119  In php, how to get all link tags from header? ...   \n",
       "\n",
       "                                                  link                  date  \\\n",
       "0    https://stackoverflow.com/questions/73844906/f...  2022-09-25 13:33:53Z   \n",
       "1    https://stackoverflow.com/questions/73843667/d...  2022-09-25 10:11:54Z   \n",
       "2    https://stackoverflow.com/questions/73840152/h...  2022-09-24 19:46:21Z   \n",
       "3    https://stackoverflow.com/questions/73839513/e...  2022-09-24 18:07:20Z   \n",
       "4    https://stackoverflow.com/questions/73836682/h...  2022-09-24 10:58:54Z   \n",
       "..                                                 ...                   ...   \n",
       "115  https://stackoverflow.com/questions/73829505/h...  2022-09-23 14:46:44Z   \n",
       "116  https://stackoverflow.com/questions/73828624/h...  2022-09-23 13:39:34Z   \n",
       "117  https://stackoverflow.com/questions/73820844/c...  2022-09-22 21:26:29Z   \n",
       "118  https://stackoverflow.com/questions/73811485/h...  2022-09-22 08:24:50Z   \n",
       "119  https://stackoverflow.com/questions/73809924/i...  2022-09-22 05:56:55Z   \n",
       "\n",
       "    vote  \n",
       "0      0  \n",
       "1     -1  \n",
       "2      0  \n",
       "3      0  \n",
       "4      0  \n",
       "..   ...  \n",
       "115    0  \n",
       "116    0  \n",
       "117    0  \n",
       "118    0  \n",
       "119   -2  \n",
       "\n",
       "[120 rows x 4 columns]"
      ]
     },
     "execution_count": 6,
     "metadata": {},
     "output_type": "execute_result"
    }
   ],
   "source": [
    "\n",
    "for x in range(1,3):\n",
    "    getdata('python',x)\n",
    "    getdata('sql',x)\n",
    "\n",
    "data = pd.DataFrame(questionlist)\n",
    "\n",
    "data.to_excel('stackOverFlowqs.xlsx')\n",
    "\n",
    "# show the data we get as dataframe\n",
    "\n",
    "data"
   ]
  },
  {
   "cell_type": "code",
   "execution_count": null,
   "id": "396302ad",
   "metadata": {},
   "outputs": [],
   "source": []
  }
 ],
 "metadata": {
  "kernelspec": {
   "display_name": "Python 3.10.5 64-bit",
   "language": "python",
   "name": "python3"
  },
  "language_info": {
   "codemirror_mode": {
    "name": "ipython",
    "version": 3
   },
   "file_extension": ".py",
   "mimetype": "text/x-python",
   "name": "python",
   "nbconvert_exporter": "python",
   "pygments_lexer": "ipython3",
   "version": "3.10.5"
  },
  "vscode": {
   "interpreter": {
    "hash": "f0b475a77ee5c332ac0f56cd7e5ca638cc723c9d6764efed44e206b2405026c2"
   }
  }
 },
 "nbformat": 4,
 "nbformat_minor": 5
}
